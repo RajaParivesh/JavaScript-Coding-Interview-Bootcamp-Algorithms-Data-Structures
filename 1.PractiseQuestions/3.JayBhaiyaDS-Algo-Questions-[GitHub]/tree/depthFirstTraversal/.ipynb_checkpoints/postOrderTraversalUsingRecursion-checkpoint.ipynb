{
 "cells": [
  {
   "cell_type": "code",
   "execution_count": 1,
   "metadata": {},
   "outputs": [
    {
     "name": "stdout",
     "output_type": "stream",
     "text": [
      "[ 9, 10, 4, 8, 11, 5, 2, 6, 7, 3, 1 ]\n"
     ]
    }
   ],
   "source": [
    "// --- Directions\n",
    "// 1) Create a tree class.  The constructor\n",
    "// should accept an argument that gets assigned\n",
    "// to the value property, left and right property\n",
    "// 2) Contruct inOrder, preOrder and PostOrder of the constructed tree.\n",
    "\n",
    "class tree{\n",
    "    constructor(value, left = null, right = null){\n",
    "        this.value = value;\n",
    "        this.left = left;\n",
    "        this.right = right;\n",
    "    }\n",
    "}\n",
    "\n",
    "let a = new tree(1);\n",
    "let b = new tree(2);\n",
    "let c = new tree(3);\n",
    "let d = new tree(4);\n",
    "let e = new tree(5);\n",
    "let f = new tree(6);\n",
    "let g = new tree(7);\n",
    "let h = new tree(8);\n",
    "let i = new tree(9);\n",
    "let j = new tree(10);\n",
    "let k = new tree(11);\n",
    "\n",
    "a.left = b;\n",
    "b.left = d;\n",
    "c.left = f;\n",
    "d.left = i;\n",
    "e.left = h;\n",
    "\n",
    "a.right =  c;\n",
    "b.right =  e;\n",
    "c.right =  g;\n",
    "d.right =  j;\n",
    "e.right =  k;\n",
    "\n",
    "let arr = [];\n",
    "// InOrder\n",
    "function inOrder(tree){  // LNR\n",
    "    if(tree){\n",
    "        inOrder(tree.left);\n",
    "        arr.push(tree.value);\n",
    "        inOrder(tree.right);\n",
    "    }\n",
    "    return arr;\n",
    "}\n",
    "// PostOrder\n",
    "function postOrder(tree){ // LRN\n",
    "    if(tree){\n",
    "        postOrder(tree.left);\n",
    "        postOrder(tree.right);\n",
    "        arr.push(tree.value);\n",
    "    }\n",
    "    return arr;\n",
    "}\n",
    "\n",
    "// PreOrder\n",
    "function preOrder(tree){  //NLR\n",
    "    if(tree){\n",
    "        arr.push(tree.value);\n",
    "        preOrder(tree.left);\n",
    "        preOrder(tree.right);\n",
    "    }    \n",
    "    return arr;\n",
    "}\n",
    "\n",
    "// console.log(inOrder(a));\n",
    "console.log(postOrder(a));\n",
    "// console.log(preOrder(a));"
   ]
  }
 ],
 "metadata": {
  "kernelspec": {
   "display_name": "Javascript (Node.js)",
   "language": "javascript",
   "name": "javascript"
  },
  "language_info": {
   "file_extension": ".js",
   "mimetype": "application/javascript",
   "name": "javascript",
   "version": "8.10.0"
  }
 },
 "nbformat": 4,
 "nbformat_minor": 2
}
