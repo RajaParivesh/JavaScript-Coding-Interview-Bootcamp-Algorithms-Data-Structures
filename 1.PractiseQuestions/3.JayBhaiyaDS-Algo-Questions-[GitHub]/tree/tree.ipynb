{
 "cells": [
  {
   "cell_type": "markdown",
   "metadata": {},
   "source": [
    "# Tree Traversal\n",
    "\n",
    "Traversal is a process to visit all the nodes of a tree and may print their values too. Because, all nodes are connected via edges (links) we always start from the root (head) node. That is, we cannot randomly access a node in a tree. There are two ways which we use to traverse a tree −\n",
    "\n",
    "### Methods of Tree Traversal\n",
    "1. [Breadth first traversal or Level Order Tree Traversal](./breadthFirstTraversal/breadthFirstTraversal.ipynb) \n",
    "2. [Depth first traversal](./depthFirstTraversal/depthFirstTraversal.ipynb)\n",
    "\n",
    "#####  Three Types of Depth first traversal:\n",
    "    1.In-order Traversal     (LNR)\n",
    "    2.Pre-order Traversal    (NLR)\n",
    "    3.Post-order Traversal   (LRN)   \n",
    "\n",
    "### Questions\n",
    "\n",
    "> **Without Recursion**\n",
    "\n",
    "- [Traverse each node of the tree using BST]()\n",
    "- Traverse each node of the tree using In-order Traversal (i.e DFT)\n",
    "- Traverse each node of the tree using Pre-order Traversal (i.e DFT)\n",
    "- Traverse each node of the tree using Post-order Traversal (i.e DFT)\n",
    "\n",
    "> **With Recursion**\n",
    "\n",
    "\n",
    "- [Traverse each node of the tree using BST]()\n",
    "- Traverse each node of the tree using DFT:\n",
    "  1. [In-order Traversal](./depthFirstTraversal/inOrderTraversalUsingRecursion.ipynb)  \n",
    "  2. [Pre-order Traversal](./depthFirstTraversal/preOrderTraversalUsingRecursion.ipynb)  \n",
    "  3. [Post-order Traversal](./depthFirstTraversal/postOrderTraversalUsingRecursion.ipynb)\n",
    "\n",
    "\n",
    "\n"
   ]
  }
 ],
 "metadata": {
  "kernelspec": {
   "display_name": "Javascript (Node.js)",
   "language": "javascript",
   "name": "javascript"
  },
  "language_info": {
   "file_extension": ".js",
   "mimetype": "application/javascript",
   "name": "javascript",
   "version": "8.10.0"
  }
 },
 "nbformat": 4,
 "nbformat_minor": 2
}
