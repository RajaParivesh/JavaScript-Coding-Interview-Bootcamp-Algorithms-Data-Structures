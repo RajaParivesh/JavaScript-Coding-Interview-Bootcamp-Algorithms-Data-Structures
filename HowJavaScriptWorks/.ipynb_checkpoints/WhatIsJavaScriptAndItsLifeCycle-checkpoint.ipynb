{
 "cells": [
  {
   "cell_type": "markdown",
   "metadata": {},
   "source": [
    "# What is JavaScript?\n",
    "\n",
    " Javascript is a **single-threaded**, **non-blocking**, **asynchronous**, **concurrent** language.\n",
    "\n",
    "> Single-thread  ==  Single call stack  ==  one thing at a time\n",
    "\n",
    "## Working Example:"
   ]
  },
  {
   "cell_type": "code",
   "execution_count": 2,
   "metadata": {},
   "outputs": [
    {
     "name": "stdout",
     "output_type": "stream",
     "text": [
      "hi\n",
      "JS\n",
      "there\n"
     ]
    }
   ],
   "source": [
    "console.log('hi');\n",
    "setTimeout(()=>{\n",
    "    console.log('there');\n",
    "},5000);\n",
    "console.log('JS');"
   ]
  },
  {
   "attachments": {},
   "cell_type": "markdown",
   "metadata": {},
   "source": [
    "![caption](download.png);"
   ]
  }
 ],
 "metadata": {
  "kernelspec": {
   "display_name": "Javascript (Node.js)",
   "language": "javascript",
   "name": "javascript"
  },
  "language_info": {
   "file_extension": ".js",
   "mimetype": "application/javascript",
   "name": "javascript",
   "version": "8.10.0"
  }
 },
 "nbformat": 4,
 "nbformat_minor": 2
}
